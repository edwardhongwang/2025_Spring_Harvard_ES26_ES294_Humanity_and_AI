{
  "nbformat": 4,
  "nbformat_minor": 0,
  "metadata": {
    "colab": {
      "provenance": [],
      "gpuType": "T4",
      "authorship_tag": "ABX9TyOMxfD+Uz3U2XwfASe3u2Y5",
      "include_colab_link": true
    },
    "kernelspec": {
      "name": "python3",
      "display_name": "Python 3"
    },
    "language_info": {
      "name": "python"
    },
    "accelerator": "GPU"
  },
  "cells": [
    {
      "cell_type": "markdown",
      "metadata": {
        "id": "view-in-github",
        "colab_type": "text"
      },
      "source": [
        "<a href=\"https://colab.research.google.com/github/edwardhongwang/2025_Spring_Harvard_ES26_ES294_Humanity_and_AI/blob/main/Session_4_Train_GPT_from_scratch.ipynb\" target=\"_parent\"><img src=\"https://colab.research.google.com/assets/colab-badge.svg\" alt=\"Open In Colab\"/></a>"
      ]
    },
    {
      "cell_type": "markdown",
      "source": [
        "# 2025 Spring ES26/ES294 Create a simple Generative Pretraning Transformer (GPT)"
      ],
      "metadata": {
        "id": "Q6uZ90o8SnVi"
      }
    },
    {
      "cell_type": "markdown",
      "source": [
        "# Part 0 Import necessary infrastructure and hyperparameter"
      ],
      "metadata": {
        "id": "9sLbkqfuUTNm"
      }
    },
    {
      "cell_type": "code",
      "source": [
        "import torch\n",
        "import torch.nn as nn\n",
        "from torch.nn import functional as F\n",
        "\n",
        "# ----------------------------\n",
        "# Hyperparameters\n",
        "# ----------------------------\n",
        "\n",
        "batch_size = 64   # how many independent sequences we process in parallel\n",
        "block_size = 256  # maximum context length\n",
        "max_iters = 5000\n",
        "eval_interval = 500\n",
        "learning_rate = 3e-4\n",
        "device = 'cuda' if torch.cuda.is_available() else 'cpu'\n",
        "eval_iters = 200\n",
        "n_embd = 384\n",
        "n_head = 6\n",
        "n_layer = 6\n",
        "dropout = 0.2\n",
        "\n",
        "print(\"Using device:\", device)\n",
        "print(\"batch_size:\", batch_size, \"block_size:\", block_size)\n"
      ],
      "metadata": {
        "colab": {
          "base_uri": "https://localhost:8080/"
        },
        "id": "-XoEpxAxUXOw",
        "outputId": "9e191e83-3a8b-43ed-bf0c-a159cad697ef"
      },
      "execution_count": 1,
      "outputs": [
        {
          "output_type": "stream",
          "name": "stdout",
          "text": [
            "Using device: cuda\n",
            "batch_size: 64 block_size: 256\n"
          ]
        }
      ]
    },
    {
      "cell_type": "markdown",
      "source": [
        "## **1) Imports & Hyperparameters**\n",
        "\n",
        "**Key Points**:\n",
        "\n",
        "1. **Imports**  \n",
        "   - We use `import torch` for the PyTorch library, `import torch.nn as nn` for building neural network modules, and `from torch.nn import functional as F` for functions like `F.softmax`.\n",
        "\n",
        "2. **Essential Hyperparameters**  \n",
        "   - **batch_size = 64**: In each training step, we process 64 sequences in parallel.  \n",
        "   - **block_size = 256**: The maximum “context length” the model can see for each position (it looks at up to 256 tokens behind the current token).  \n",
        "   - **n_embd = 384**: The size (dimension) of each token’s vector embedding (how many numbers represent one token).  \n",
        "   - **n_head = 6**: How many separate “heads” we use in multi-head attention. Each head focuses on different aspects of the context.  \n",
        "   - **n_layer = 6**: We stack 6 Transformer blocks on top of each other. Each block has self-attention + feed-forward layers.  \n",
        "   - **dropout = 0.2**: The fraction of neurons (20%) “dropped” to prevent overfitting.  \n",
        "   - **learning_rate = 3e-4**: The step size when adjusting the model’s weights during training.  \n",
        "   - **max_iters = 5000**: We plan to update the model 5000 times in total.  \n",
        "   - **eval_interval = 500**: Every 500 updates, we will measure and print the training and validation losses.  \n",
        "   - **eval_iters = 200**: How many batches we use to estimate the average loss each time we evaluate the model.  \n",
        "   - **device**: 'cuda' if a GPU is available, otherwise 'cpu'.  \n",
        "\n",
        "These hyperparameters shape how large the network is, how it trains, and how we evaluate performance along the way."
      ],
      "metadata": {
        "id": "SnfqVxwNVNmP"
      }
    },
    {
      "cell_type": "markdown",
      "source": [
        "# Part 1 Exploring the dataset Tiny Shakespear\n"
      ],
      "metadata": {
        "id": "EyDUMC63Swe9"
      }
    },
    {
      "cell_type": "code",
      "source": [
        "# We always start with a dataset to train on. Let's download the tiny shakespeare dataset\n",
        "!wget https://raw.githubusercontent.com/karpathy/char-rnn/master/data/tinyshakespeare/input.txt"
      ],
      "metadata": {
        "colab": {
          "base_uri": "https://localhost:8080/"
        },
        "id": "N2Oaqn9HS-kB",
        "outputId": "dd6ed35a-3a54-4f9f-c630-69c32a52482f"
      },
      "execution_count": 2,
      "outputs": [
        {
          "output_type": "stream",
          "name": "stdout",
          "text": [
            "--2025-03-24 19:00:53--  https://raw.githubusercontent.com/karpathy/char-rnn/master/data/tinyshakespeare/input.txt\n",
            "Resolving raw.githubusercontent.com (raw.githubusercontent.com)... 185.199.110.133, 185.199.111.133, 185.199.108.133, ...\n",
            "Connecting to raw.githubusercontent.com (raw.githubusercontent.com)|185.199.110.133|:443... connected.\n",
            "HTTP request sent, awaiting response... 200 OK\n",
            "Length: 1115394 (1.1M) [text/plain]\n",
            "Saving to: ‘input.txt’\n",
            "\n",
            "input.txt           100%[===================>]   1.06M  --.-KB/s    in 0.02s   \n",
            "\n",
            "2025-03-24 19:00:53 (44.6 MB/s) - ‘input.txt’ saved [1115394/1115394]\n",
            "\n"
          ]
        }
      ]
    },
    {
      "cell_type": "code",
      "source": [
        "# read it in to inspect it\n",
        "with open('input.txt', 'r', encoding='utf-8') as f:\n",
        "    text = f.read()"
      ],
      "metadata": {
        "id": "_BejOQOkTEgf"
      },
      "execution_count": 3,
      "outputs": []
    },
    {
      "cell_type": "code",
      "source": [
        "print(\"length of dataset in characters: \", len(text))"
      ],
      "metadata": {
        "colab": {
          "base_uri": "https://localhost:8080/"
        },
        "id": "rpaV8l-KTHPu",
        "outputId": "c2e5a945-8490-4c51-bb4b-ed26bfe6c4c1"
      },
      "execution_count": 4,
      "outputs": [
        {
          "output_type": "stream",
          "name": "stdout",
          "text": [
            "length of dataset in characters:  1115394\n"
          ]
        }
      ]
    },
    {
      "cell_type": "code",
      "source": [
        "# let's look at the first 1000 characters\n",
        "print(text[:1000])"
      ],
      "metadata": {
        "colab": {
          "base_uri": "https://localhost:8080/"
        },
        "id": "Ui0gqNrjTIue",
        "outputId": "ff8c7073-abee-4e73-9836-3bfbabe8b2ec"
      },
      "execution_count": 5,
      "outputs": [
        {
          "output_type": "stream",
          "name": "stdout",
          "text": [
            "First Citizen:\n",
            "Before we proceed any further, hear me speak.\n",
            "\n",
            "All:\n",
            "Speak, speak.\n",
            "\n",
            "First Citizen:\n",
            "You are all resolved rather to die than to famish?\n",
            "\n",
            "All:\n",
            "Resolved. resolved.\n",
            "\n",
            "First Citizen:\n",
            "First, you know Caius Marcius is chief enemy to the people.\n",
            "\n",
            "All:\n",
            "We know't, we know't.\n",
            "\n",
            "First Citizen:\n",
            "Let us kill him, and we'll have corn at our own price.\n",
            "Is't a verdict?\n",
            "\n",
            "All:\n",
            "No more talking on't; let it be done: away, away!\n",
            "\n",
            "Second Citizen:\n",
            "One word, good citizens.\n",
            "\n",
            "First Citizen:\n",
            "We are accounted poor citizens, the patricians good.\n",
            "What authority surfeits on would relieve us: if they\n",
            "would yield us but the superfluity, while it were\n",
            "wholesome, we might guess they relieved us humanely;\n",
            "but they think we are too dear: the leanness that\n",
            "afflicts us, the object of our misery, is as an\n",
            "inventory to particularise their abundance; our\n",
            "sufferance is a gain to them Let us revenge this with\n",
            "our pikes, ere we become rakes: for the gods know I\n",
            "speak this in hunger for bread, not in thirst for revenge.\n",
            "\n",
            "\n"
          ]
        }
      ]
    },
    {
      "cell_type": "code",
      "source": [
        "# here are all the unique characters that occur in this text\n",
        "chars = sorted(list(set(text)))\n",
        "vocab_size = len(chars)\n",
        "print(''.join(chars))\n",
        "print(vocab_size)"
      ],
      "metadata": {
        "colab": {
          "base_uri": "https://localhost:8080/"
        },
        "id": "wQmpX1lgTKsl",
        "outputId": "63c325eb-c660-4e92-c14a-6d59ff9799d3"
      },
      "execution_count": 6,
      "outputs": [
        {
          "output_type": "stream",
          "name": "stdout",
          "text": [
            "\n",
            " !$&',-.3:;?ABCDEFGHIJKLMNOPQRSTUVWXYZabcdefghijklmnopqrstuvwxyz\n",
            "65\n"
          ]
        }
      ]
    },
    {
      "cell_type": "code",
      "source": [
        "# create a mapping from characters to integers\n",
        "stoi = { ch:i for i,ch in enumerate(chars) }\n",
        "itos = { i:ch for i,ch in enumerate(chars) }\n",
        "encode = lambda s: [stoi[c] for c in s] # encoder: take a string, output a list of integers\n",
        "decode = lambda l: ''.join([itos[i] for i in l]) # decoder: take a list of integers, output a string\n",
        "\n",
        "print(encode(\"hii there\"))\n",
        "print(decode(encode(\"hii there\")))"
      ],
      "metadata": {
        "colab": {
          "base_uri": "https://localhost:8080/"
        },
        "id": "2HrvL6B8TL4T",
        "outputId": "ca27593f-81f8-4b8f-be8a-37ea3d67600a"
      },
      "execution_count": 7,
      "outputs": [
        {
          "output_type": "stream",
          "name": "stdout",
          "text": [
            "[46, 47, 47, 1, 58, 46, 43, 56, 43]\n",
            "hii there\n"
          ]
        }
      ]
    },
    {
      "cell_type": "code",
      "source": [
        "# let's now encode the entire text dataset and store it into a torch.Tensor\n",
        "import torch # we use PyTorch: https://pytorch.org\n",
        "data = torch.tensor(encode(text), dtype=torch.long)\n",
        "print(data.shape, data.dtype)\n",
        "print(data[:1000]) # the 1000 characters we looked at earier will to the GPT look like this"
      ],
      "metadata": {
        "colab": {
          "base_uri": "https://localhost:8080/"
        },
        "id": "hLJosKc1TNQa",
        "outputId": "2ddf0daf-f25f-4621-dfd0-144b741a1012"
      },
      "execution_count": 8,
      "outputs": [
        {
          "output_type": "stream",
          "name": "stdout",
          "text": [
            "torch.Size([1115394]) torch.int64\n",
            "tensor([18, 47, 56, 57, 58,  1, 15, 47, 58, 47, 64, 43, 52, 10,  0, 14, 43, 44,\n",
            "        53, 56, 43,  1, 61, 43,  1, 54, 56, 53, 41, 43, 43, 42,  1, 39, 52, 63,\n",
            "         1, 44, 59, 56, 58, 46, 43, 56,  6,  1, 46, 43, 39, 56,  1, 51, 43,  1,\n",
            "        57, 54, 43, 39, 49,  8,  0,  0, 13, 50, 50, 10,  0, 31, 54, 43, 39, 49,\n",
            "         6,  1, 57, 54, 43, 39, 49,  8,  0,  0, 18, 47, 56, 57, 58,  1, 15, 47,\n",
            "        58, 47, 64, 43, 52, 10,  0, 37, 53, 59,  1, 39, 56, 43,  1, 39, 50, 50,\n",
            "         1, 56, 43, 57, 53, 50, 60, 43, 42,  1, 56, 39, 58, 46, 43, 56,  1, 58,\n",
            "        53,  1, 42, 47, 43,  1, 58, 46, 39, 52,  1, 58, 53,  1, 44, 39, 51, 47,\n",
            "        57, 46, 12,  0,  0, 13, 50, 50, 10,  0, 30, 43, 57, 53, 50, 60, 43, 42,\n",
            "         8,  1, 56, 43, 57, 53, 50, 60, 43, 42,  8,  0,  0, 18, 47, 56, 57, 58,\n",
            "         1, 15, 47, 58, 47, 64, 43, 52, 10,  0, 18, 47, 56, 57, 58,  6,  1, 63,\n",
            "        53, 59,  1, 49, 52, 53, 61,  1, 15, 39, 47, 59, 57,  1, 25, 39, 56, 41,\n",
            "        47, 59, 57,  1, 47, 57,  1, 41, 46, 47, 43, 44,  1, 43, 52, 43, 51, 63,\n",
            "         1, 58, 53,  1, 58, 46, 43,  1, 54, 43, 53, 54, 50, 43,  8,  0,  0, 13,\n",
            "        50, 50, 10,  0, 35, 43,  1, 49, 52, 53, 61,  5, 58,  6,  1, 61, 43,  1,\n",
            "        49, 52, 53, 61,  5, 58,  8,  0,  0, 18, 47, 56, 57, 58,  1, 15, 47, 58,\n",
            "        47, 64, 43, 52, 10,  0, 24, 43, 58,  1, 59, 57,  1, 49, 47, 50, 50,  1,\n",
            "        46, 47, 51,  6,  1, 39, 52, 42,  1, 61, 43,  5, 50, 50,  1, 46, 39, 60,\n",
            "        43,  1, 41, 53, 56, 52,  1, 39, 58,  1, 53, 59, 56,  1, 53, 61, 52,  1,\n",
            "        54, 56, 47, 41, 43,  8,  0, 21, 57,  5, 58,  1, 39,  1, 60, 43, 56, 42,\n",
            "        47, 41, 58, 12,  0,  0, 13, 50, 50, 10,  0, 26, 53,  1, 51, 53, 56, 43,\n",
            "         1, 58, 39, 50, 49, 47, 52, 45,  1, 53, 52,  5, 58, 11,  1, 50, 43, 58,\n",
            "         1, 47, 58,  1, 40, 43,  1, 42, 53, 52, 43, 10,  1, 39, 61, 39, 63,  6,\n",
            "         1, 39, 61, 39, 63,  2,  0,  0, 31, 43, 41, 53, 52, 42,  1, 15, 47, 58,\n",
            "        47, 64, 43, 52, 10,  0, 27, 52, 43,  1, 61, 53, 56, 42,  6,  1, 45, 53,\n",
            "        53, 42,  1, 41, 47, 58, 47, 64, 43, 52, 57,  8,  0,  0, 18, 47, 56, 57,\n",
            "        58,  1, 15, 47, 58, 47, 64, 43, 52, 10,  0, 35, 43,  1, 39, 56, 43,  1,\n",
            "        39, 41, 41, 53, 59, 52, 58, 43, 42,  1, 54, 53, 53, 56,  1, 41, 47, 58,\n",
            "        47, 64, 43, 52, 57,  6,  1, 58, 46, 43,  1, 54, 39, 58, 56, 47, 41, 47,\n",
            "        39, 52, 57,  1, 45, 53, 53, 42,  8,  0, 35, 46, 39, 58,  1, 39, 59, 58,\n",
            "        46, 53, 56, 47, 58, 63,  1, 57, 59, 56, 44, 43, 47, 58, 57,  1, 53, 52,\n",
            "         1, 61, 53, 59, 50, 42,  1, 56, 43, 50, 47, 43, 60, 43,  1, 59, 57, 10,\n",
            "         1, 47, 44,  1, 58, 46, 43, 63,  0, 61, 53, 59, 50, 42,  1, 63, 47, 43,\n",
            "        50, 42,  1, 59, 57,  1, 40, 59, 58,  1, 58, 46, 43,  1, 57, 59, 54, 43,\n",
            "        56, 44, 50, 59, 47, 58, 63,  6,  1, 61, 46, 47, 50, 43,  1, 47, 58,  1,\n",
            "        61, 43, 56, 43,  0, 61, 46, 53, 50, 43, 57, 53, 51, 43,  6,  1, 61, 43,\n",
            "         1, 51, 47, 45, 46, 58,  1, 45, 59, 43, 57, 57,  1, 58, 46, 43, 63,  1,\n",
            "        56, 43, 50, 47, 43, 60, 43, 42,  1, 59, 57,  1, 46, 59, 51, 39, 52, 43,\n",
            "        50, 63, 11,  0, 40, 59, 58,  1, 58, 46, 43, 63,  1, 58, 46, 47, 52, 49,\n",
            "         1, 61, 43,  1, 39, 56, 43,  1, 58, 53, 53,  1, 42, 43, 39, 56, 10,  1,\n",
            "        58, 46, 43,  1, 50, 43, 39, 52, 52, 43, 57, 57,  1, 58, 46, 39, 58,  0,\n",
            "        39, 44, 44, 50, 47, 41, 58, 57,  1, 59, 57,  6,  1, 58, 46, 43,  1, 53,\n",
            "        40, 48, 43, 41, 58,  1, 53, 44,  1, 53, 59, 56,  1, 51, 47, 57, 43, 56,\n",
            "        63,  6,  1, 47, 57,  1, 39, 57,  1, 39, 52,  0, 47, 52, 60, 43, 52, 58,\n",
            "        53, 56, 63,  1, 58, 53,  1, 54, 39, 56, 58, 47, 41, 59, 50, 39, 56, 47,\n",
            "        57, 43,  1, 58, 46, 43, 47, 56,  1, 39, 40, 59, 52, 42, 39, 52, 41, 43,\n",
            "        11,  1, 53, 59, 56,  0, 57, 59, 44, 44, 43, 56, 39, 52, 41, 43,  1, 47,\n",
            "        57,  1, 39,  1, 45, 39, 47, 52,  1, 58, 53,  1, 58, 46, 43, 51,  1, 24,\n",
            "        43, 58,  1, 59, 57,  1, 56, 43, 60, 43, 52, 45, 43,  1, 58, 46, 47, 57,\n",
            "         1, 61, 47, 58, 46,  0, 53, 59, 56,  1, 54, 47, 49, 43, 57,  6,  1, 43,\n",
            "        56, 43,  1, 61, 43,  1, 40, 43, 41, 53, 51, 43,  1, 56, 39, 49, 43, 57,\n",
            "        10,  1, 44, 53, 56,  1, 58, 46, 43,  1, 45, 53, 42, 57,  1, 49, 52, 53,\n",
            "        61,  1, 21,  0, 57, 54, 43, 39, 49,  1, 58, 46, 47, 57,  1, 47, 52,  1,\n",
            "        46, 59, 52, 45, 43, 56,  1, 44, 53, 56,  1, 40, 56, 43, 39, 42,  6,  1,\n",
            "        52, 53, 58,  1, 47, 52,  1, 58, 46, 47, 56, 57, 58,  1, 44, 53, 56,  1,\n",
            "        56, 43, 60, 43, 52, 45, 43,  8,  0,  0])\n"
          ]
        }
      ]
    },
    {
      "cell_type": "code",
      "source": [
        "# Let's now split up the data into train and validation sets\n",
        "n = int(0.9*len(data)) # first 90% will be train, rest val\n",
        "train_data = data[:n]\n",
        "val_data = data[n:]"
      ],
      "metadata": {
        "id": "UdFo4X1KTPU8"
      },
      "execution_count": 9,
      "outputs": []
    },
    {
      "cell_type": "code",
      "source": [
        "block_size = 8\n",
        "train_data[:block_size+1]"
      ],
      "metadata": {
        "colab": {
          "base_uri": "https://localhost:8080/"
        },
        "id": "oOlLJnRnTSBm",
        "outputId": "9989caa7-f60d-48ef-939a-706c90e00985"
      },
      "execution_count": 10,
      "outputs": [
        {
          "output_type": "execute_result",
          "data": {
            "text/plain": [
              "tensor([18, 47, 56, 57, 58,  1, 15, 47, 58])"
            ]
          },
          "metadata": {},
          "execution_count": 10
        }
      ]
    },
    {
      "cell_type": "code",
      "source": [
        "x = train_data[:block_size]\n",
        "y = train_data[1:block_size+1]\n",
        "for t in range(block_size):\n",
        "    context = x[:t+1]\n",
        "    target = y[t]\n",
        "    print(f\"when input is {context} the target: {target}\")"
      ],
      "metadata": {
        "colab": {
          "base_uri": "https://localhost:8080/"
        },
        "id": "NCUe2bvlTTIW",
        "outputId": "d83093c5-9d57-454a-b6d4-ff84c62dcef9"
      },
      "execution_count": 11,
      "outputs": [
        {
          "output_type": "stream",
          "name": "stdout",
          "text": [
            "when input is tensor([18]) the target: 47\n",
            "when input is tensor([18, 47]) the target: 56\n",
            "when input is tensor([18, 47, 56]) the target: 57\n",
            "when input is tensor([18, 47, 56, 57]) the target: 58\n",
            "when input is tensor([18, 47, 56, 57, 58]) the target: 1\n",
            "when input is tensor([18, 47, 56, 57, 58,  1]) the target: 15\n",
            "when input is tensor([18, 47, 56, 57, 58,  1, 15]) the target: 47\n",
            "when input is tensor([18, 47, 56, 57, 58,  1, 15, 47]) the target: 58\n"
          ]
        }
      ]
    },
    {
      "cell_type": "code",
      "source": [
        "torch.manual_seed(1337)\n",
        "batch_size = 4 # how many independent sequences will we process in parallel?\n",
        "block_size = 8 # what is the maximum context length for predictions?\n",
        "\n",
        "def get_batch(split):\n",
        "    # generate a small batch of data of inputs x and targets y\n",
        "    data = train_data if split == 'train' else val_data\n",
        "    ix = torch.randint(len(data) - block_size, (batch_size,))\n",
        "    x = torch.stack([data[i:i+block_size] for i in ix])\n",
        "    y = torch.stack([data[i+1:i+block_size+1] for i in ix])\n",
        "    return x, y\n",
        "\n",
        "xb, yb = get_batch('train')\n",
        "print('inputs:')\n",
        "print(xb.shape)\n",
        "print(xb)\n",
        "print('targets:')\n",
        "print(yb.shape)\n",
        "print(yb)\n",
        "\n",
        "print('----')\n",
        "\n",
        "for b in range(batch_size): # batch dimension\n",
        "    for t in range(block_size): # time dimension\n",
        "        context = xb[b, :t+1]\n",
        "        target = yb[b,t]\n",
        "        print(f\"when input is {context.tolist()} the target: {target}\")"
      ],
      "metadata": {
        "colab": {
          "base_uri": "https://localhost:8080/"
        },
        "id": "1-jde6G0TXlk",
        "outputId": "56ca1370-d589-4309-ed19-6e86bc8ff8a4"
      },
      "execution_count": 12,
      "outputs": [
        {
          "output_type": "stream",
          "name": "stdout",
          "text": [
            "inputs:\n",
            "torch.Size([4, 8])\n",
            "tensor([[24, 43, 58,  5, 57,  1, 46, 43],\n",
            "        [44, 53, 56,  1, 58, 46, 39, 58],\n",
            "        [52, 58,  1, 58, 46, 39, 58,  1],\n",
            "        [25, 17, 27, 10,  0, 21,  1, 54]])\n",
            "targets:\n",
            "torch.Size([4, 8])\n",
            "tensor([[43, 58,  5, 57,  1, 46, 43, 39],\n",
            "        [53, 56,  1, 58, 46, 39, 58,  1],\n",
            "        [58,  1, 58, 46, 39, 58,  1, 46],\n",
            "        [17, 27, 10,  0, 21,  1, 54, 39]])\n",
            "----\n",
            "when input is [24] the target: 43\n",
            "when input is [24, 43] the target: 58\n",
            "when input is [24, 43, 58] the target: 5\n",
            "when input is [24, 43, 58, 5] the target: 57\n",
            "when input is [24, 43, 58, 5, 57] the target: 1\n",
            "when input is [24, 43, 58, 5, 57, 1] the target: 46\n",
            "when input is [24, 43, 58, 5, 57, 1, 46] the target: 43\n",
            "when input is [24, 43, 58, 5, 57, 1, 46, 43] the target: 39\n",
            "when input is [44] the target: 53\n",
            "when input is [44, 53] the target: 56\n",
            "when input is [44, 53, 56] the target: 1\n",
            "when input is [44, 53, 56, 1] the target: 58\n",
            "when input is [44, 53, 56, 1, 58] the target: 46\n",
            "when input is [44, 53, 56, 1, 58, 46] the target: 39\n",
            "when input is [44, 53, 56, 1, 58, 46, 39] the target: 58\n",
            "when input is [44, 53, 56, 1, 58, 46, 39, 58] the target: 1\n",
            "when input is [52] the target: 58\n",
            "when input is [52, 58] the target: 1\n",
            "when input is [52, 58, 1] the target: 58\n",
            "when input is [52, 58, 1, 58] the target: 46\n",
            "when input is [52, 58, 1, 58, 46] the target: 39\n",
            "when input is [52, 58, 1, 58, 46, 39] the target: 58\n",
            "when input is [52, 58, 1, 58, 46, 39, 58] the target: 1\n",
            "when input is [52, 58, 1, 58, 46, 39, 58, 1] the target: 46\n",
            "when input is [25] the target: 17\n",
            "when input is [25, 17] the target: 27\n",
            "when input is [25, 17, 27] the target: 10\n",
            "when input is [25, 17, 27, 10] the target: 0\n",
            "when input is [25, 17, 27, 10, 0] the target: 21\n",
            "when input is [25, 17, 27, 10, 0, 21] the target: 1\n",
            "when input is [25, 17, 27, 10, 0, 21, 1] the target: 54\n",
            "when input is [25, 17, 27, 10, 0, 21, 1, 54] the target: 39\n"
          ]
        }
      ]
    },
    {
      "cell_type": "markdown",
      "source": [
        "# Part 2 Prepare the data for training\n"
      ],
      "metadata": {
        "id": "fFsfx8exUDQp"
      }
    },
    {
      "cell_type": "code",
      "source": [
        "# For reproducibility\n",
        "torch.manual_seed(1337)\n",
        "\n",
        "# ----------------------------\n",
        "# Load the text data\n",
        "# ----------------------------\n",
        "with open('input.txt', 'r', encoding='utf-8') as f:\n",
        "    text = f.read()\n",
        "\n",
        "# Identify the set of all unique characters in the text\n",
        "chars = sorted(list(set(text)))\n",
        "vocab_size = len(chars)\n",
        "print(\"Unique characters in vocab:\", chars)\n",
        "print(\"Vocab size:\", vocab_size)\n",
        "\n",
        "# Create mappings from characters to integers (and vice versa)\n",
        "stoi = { ch:i for i,ch in enumerate(chars) }\n",
        "itos = { i:ch for i,ch in enumerate(chars) }\n",
        "\n",
        "encode = lambda s: [stoi[c] for c in s]  # encoder: string -> list of ints\n",
        "decode = lambda l: ''.join([itos[i] for i in l])  # decoder: list of ints -> string\n",
        "\n",
        "# ----------------------------\n",
        "# Train / validation splits\n",
        "# ----------------------------\n",
        "data = torch.tensor(encode(text), dtype=torch.long)\n",
        "n = int(0.9*len(data))\n",
        "train_data = data[:n]\n",
        "val_data = data[n:]\n",
        "\n",
        "print(f\"Data has {len(data)} tokens total.\")\n",
        "print(f\"Split into {len(train_data)} training tokens and {len(val_data)} validation tokens.\")\n"
      ],
      "metadata": {
        "colab": {
          "base_uri": "https://localhost:8080/"
        },
        "id": "OXsTaaVWT40C",
        "outputId": "f60208ce-e716-4889-d576-465442763c91"
      },
      "execution_count": 13,
      "outputs": [
        {
          "output_type": "stream",
          "name": "stdout",
          "text": [
            "Unique characters in vocab: ['\\n', ' ', '!', '$', '&', \"'\", ',', '-', '.', '3', ':', ';', '?', 'A', 'B', 'C', 'D', 'E', 'F', 'G', 'H', 'I', 'J', 'K', 'L', 'M', 'N', 'O', 'P', 'Q', 'R', 'S', 'T', 'U', 'V', 'W', 'X', 'Y', 'Z', 'a', 'b', 'c', 'd', 'e', 'f', 'g', 'h', 'i', 'j', 'k', 'l', 'm', 'n', 'o', 'p', 'q', 'r', 's', 't', 'u', 'v', 'w', 'x', 'y', 'z']\n",
            "Vocab size: 65\n",
            "Data has 1115394 tokens total.\n",
            "Split into 1003854 training tokens and 111540 validation tokens.\n"
          ]
        }
      ]
    },
    {
      "cell_type": "markdown",
      "source": [
        "## **2) Load & Prepare Data**\n",
        "\n",
        "**Key Points**:\n",
        "\n",
        "1. **Reading the Dataset**  \n",
        "   - We open `input.txt` and read it into a single large string called `text`. This might be Shakespeare or any large corpus.\n",
        "\n",
        "2. **Character Vocabulary**  \n",
        "   - We extract the unique characters that appear in the text and sort them. For example, if the text has letters, punctuation, and spaces, those all count as characters.  \n",
        "   - **vocab_size** is how many unique characters we end up with.\n",
        "\n",
        "3. **Mapping Characters to Integers**  \n",
        "   - **stoi**: (string-to-integer) a dictionary mapping each character to a unique integer ID (0, 1, 2, …).  \n",
        "   - **itos**: (integer-to-string) the reverse mapping, so we can decode predicted integers back to text.\n",
        "\n",
        "4. **Encoding & Decoding**  \n",
        "   - An **encode** function that turns a text string into a list of integer IDs.  \n",
        "   - A **decode** function that does the opposite (IDs → text).\n",
        "\n",
        "5. **Train/Validation Split**  \n",
        "   - We take 90% of the text for training (stored in `train_data`) and the final 10% for validation (in `val_data`).  \n",
        "   - This ensures we can evaluate how well the model generalizes to unseen text.\n"
      ],
      "metadata": {
        "id": "lxtynxjzUmxk"
      }
    },
    {
      "cell_type": "markdown",
      "source": [
        "# Part 3 Batch function and loss estimation"
      ],
      "metadata": {
        "id": "RciAMgr4UsAT"
      }
    },
    {
      "cell_type": "code",
      "source": [
        "def get_batch(split):\n",
        "    \"\"\"\n",
        "    Returns a batch of x and y data of shape (batch_size, block_size).\n",
        "    x[i] is a context of `block_size` tokens.\n",
        "    y[i] is those same tokens shifted by 1 (the \"next token\").\n",
        "    \"\"\"\n",
        "    data_source = train_data if split == 'train' else val_data\n",
        "    ix = torch.randint(len(data_source) - block_size, (batch_size,))\n",
        "    x = torch.stack([data_source[i:i+block_size] for i in ix])\n",
        "    y = torch.stack([data_source[i+1:i+block_size+1] for i in ix])\n",
        "    x, y = x.to(device), y.to(device)\n",
        "    return x, y\n",
        "\n",
        "@torch.no_grad()\n",
        "def estimate_loss(model):\n",
        "    \"\"\"\n",
        "    Evaluate the model on both training and validation splits\n",
        "    to see how the average loss is doing.\n",
        "    \"\"\"\n",
        "    out = {}\n",
        "    model.eval()\n",
        "    for split in ['train', 'val']:\n",
        "        losses = torch.zeros(eval_iters)\n",
        "        for k in range(eval_iters):\n",
        "            X, Y = get_batch(split)\n",
        "            _, loss = model(X, Y)\n",
        "            losses[k] = loss.item()\n",
        "        out[split] = losses.mean()\n",
        "    model.train()\n",
        "    return out\n"
      ],
      "metadata": {
        "id": "5urQvhfsV0b6"
      },
      "execution_count": 14,
      "outputs": []
    },
    {
      "cell_type": "markdown",
      "source": [
        "\n",
        "## **3) Batching & Loss Estimation**\n",
        "\n",
        "**Key Points**:\n",
        "\n",
        "1. **get_batch(split)**  \n",
        "   - **batch_size = 64**: We pick 64 random starting positions in the text (from training or validation portion).  \n",
        "   - **block_size = 256**: From each starting position, we slice 256 tokens as the input (`x`).  \n",
        "   - We also take the next 256 tokens as the “target” (`y`), effectively shifting by 1. So if `x` = “HELLO”, `y` = “ELLO?” (the next character is what we want to predict).\n",
        "\n",
        "2. **estimate_loss(model)**  \n",
        "   - Temporarily switches the model to evaluation mode (`model.eval()`).  \n",
        "   - **eval_iters = 200**: For each split ('train' and 'val'), we run 200 batches through the model and compute the average cross-entropy loss.  \n",
        "   - Returns the mean loss for both training and validation.  \n",
        "   - Switches the model back to training mode (`model.train()`) so dropout is re-enabled for training.\n"
      ],
      "metadata": {
        "id": "n3h_vBQiV6yK"
      }
    },
    {
      "cell_type": "markdown",
      "source": [
        "# Part 4a Single Attention Head\n"
      ],
      "metadata": {
        "id": "a2LcOd14V_FR"
      }
    },
    {
      "cell_type": "code",
      "source": [
        "class Head(nn.Module):\n",
        "    \"\"\" one head of self-attention \"\"\"\n",
        "\n",
        "    def __init__(self, head_size):\n",
        "        super().__init__()\n",
        "        self.key = nn.Linear(n_embd, head_size, bias=False)\n",
        "        self.query = nn.Linear(n_embd, head_size, bias=False)\n",
        "        self.value = nn.Linear(n_embd, head_size, bias=False)\n",
        "        self.register_buffer('tril', torch.tril(torch.ones(block_size, block_size)))\n",
        "\n",
        "        self.dropout = nn.Dropout(dropout)\n",
        "\n",
        "    def forward(self, x):\n",
        "        # input of size (batch, time-step, channels)\n",
        "        # output of size (batch, time-step, head size)\n",
        "        B,T,C = x.shape\n",
        "        k = self.key(x)   # (B,T,hs)\n",
        "        q = self.query(x) # (B,T,hs)\n",
        "        # compute attention scores (\"affinities\")\n",
        "        wei = q @ k.transpose(-2,-1) * k.shape[-1]**-0.5 # (B, T, hs) @ (B, hs, T) -> (B, T, T)\n",
        "        wei = wei.masked_fill(self.tril[:T, :T] == 0, float('-inf')) # (B, T, T)\n",
        "        wei = F.softmax(wei, dim=-1) # (B, T, T)\n",
        "        wei = self.dropout(wei)\n",
        "        # perform the weighted aggregation of the values\n",
        "        v = self.value(x) # (B,T,hs)\n",
        "        out = wei @ v # (B, T, T) @ (B, T, hs) -> (B, T, hs)\n",
        "        return out"
      ],
      "metadata": {
        "id": "xe6_hrV9WIWA"
      },
      "execution_count": 15,
      "outputs": []
    },
    {
      "cell_type": "markdown",
      "source": [
        "## 4a) **Single Attention Head**\n",
        "\n",
        "1. **Self-Attention**  \n",
        "   - For each token, we compute `query`, `key`, and `value` vectors (dimension `head_size`).  \n",
        "\n",
        "2. **Masking for Causality**  \n",
        "   - We use a lower-triangular matrix to ensure each token can only attend to positions before it.  \n",
        "   - **block_size = 256** determines the shape of that mask.\n",
        "\n",
        "3. **Dot-Product Attention**  \n",
        "   - An attention score matrix `(B, T, T)` is formed by `query @ key^T`.  \n",
        "   - We apply `softmax` so each token “weights” how much it attends to each other token in the context.\n",
        "\n",
        "4. **Dimension**  \n",
        "   - If **n_embd = 384** and **n_head = 6**, then each head might have `head_size = 384 // 6 = 64`.\n",
        "\n",
        "5. **Dropout = 0.2**  \n",
        "   - Applied to the attention weights to help the model generalize.\n"
      ],
      "metadata": {
        "id": "ypBq_FgJWKOZ"
      }
    },
    {
      "cell_type": "markdown",
      "source": [
        "# Part 4b Multi-Head Attention"
      ],
      "metadata": {
        "id": "HZRvXMvwWt7t"
      }
    },
    {
      "cell_type": "code",
      "source": [
        "class MultiHeadAttention(nn.Module):\n",
        "    \"\"\" multiple heads of self-attention in parallel \"\"\"\n",
        "\n",
        "    def __init__(self, num_heads, head_size):\n",
        "        super().__init__()\n",
        "        self.heads = nn.ModuleList([Head(head_size) for _ in range(num_heads)])\n",
        "        self.proj = nn.Linear(head_size * num_heads, n_embd)\n",
        "        self.dropout = nn.Dropout(dropout)\n",
        "\n",
        "    def forward(self, x):\n",
        "        out = torch.cat([h(x) for h in self.heads], dim=-1)\n",
        "        out = self.dropout(self.proj(out))\n",
        "        return out"
      ],
      "metadata": {
        "id": "vHUNui85WyLE"
      },
      "execution_count": 16,
      "outputs": []
    },
    {
      "cell_type": "markdown",
      "source": [
        "## 4b) **Multi-Head Attention**\n",
        "\n",
        "1. **Parallel Heads**  \n",
        "   - We create **n_head = 6** separate “Head” modules. Each can learn to focus on different patterns in the sequence.\n",
        "\n",
        "2. **Concatenation**  \n",
        "   - We combine the outputs of all heads along the final dimension. If each head outputs `(B, T, 64)`, we end up with `(B, T, 384)` (since `64 * 6 = 384`).\n",
        "\n",
        "3. **Projection**  \n",
        "   - A final linear layer maps `(B, T, 384)` back to `(B, T, 384)`, preserving the original embedding dimension.\n",
        "\n",
        "4. **Dropout**  \n",
        "   - Again, we use a dropout of 0.2 for regularization.\n"
      ],
      "metadata": {
        "id": "2dAbFn5HWyxW"
      }
    },
    {
      "cell_type": "markdown",
      "source": [
        "# Part 4c Feed Forward network (Fully connected Neural Network)"
      ],
      "metadata": {
        "id": "xie7c8boW6Xq"
      }
    },
    {
      "cell_type": "code",
      "source": [
        "class FeedFoward(nn.Module):\n",
        "    \"\"\" a simple linear layer followed by a non-linearity \"\"\"\n",
        "\n",
        "    def __init__(self, n_embd):\n",
        "        super().__init__()\n",
        "        self.net = nn.Sequential(\n",
        "            nn.Linear(n_embd, 4 * n_embd),\n",
        "            nn.ReLU(),\n",
        "            nn.Linear(4 * n_embd, n_embd),\n",
        "            nn.Dropout(dropout),\n",
        "        )\n",
        "\n",
        "    def forward(self, x):\n",
        "        return self.net(x)\n"
      ],
      "metadata": {
        "id": "iZjyIJCHXABH"
      },
      "execution_count": 17,
      "outputs": []
    },
    {
      "cell_type": "markdown",
      "source": [
        "## 4c) **Feed Forward**\n",
        "\n",
        "1. **Two-Layer MLP**  \n",
        "   - First layer expands from **n_embd = 384** to **4 * n_embd = 1536**, then we apply a ReLU.  \n",
        "   - Second layer brings it back down to 384.\n",
        "\n",
        "2. **Per-Token Operation**  \n",
        "   - The feed forward network acts on each token’s representation independently (after the attention is done).\n",
        "\n",
        "3. **Dropout = 0.2**  \n",
        "   - Applied to the output to avoid overfitting.\n"
      ],
      "metadata": {
        "id": "uhScfxN_XCvL"
      }
    },
    {
      "cell_type": "markdown",
      "source": [
        "# Part 4d Transformer Block"
      ],
      "metadata": {
        "id": "EEj1GGfnXMZN"
      }
    },
    {
      "cell_type": "code",
      "source": [
        "class Block(nn.Module):\n",
        "    \"\"\" Transformer block: communication followed by computation \"\"\"\n",
        "\n",
        "    def __init__(self, n_embd, n_head):\n",
        "        # n_embd: embedding dimension, n_head: the number of heads we'd like\n",
        "        super().__init__()\n",
        "        head_size = n_embd // n_head\n",
        "        self.sa = MultiHeadAttention(n_head, head_size)\n",
        "        self.ffwd = FeedFoward(n_embd)\n",
        "        self.ln1 = nn.LayerNorm(n_embd)\n",
        "        self.ln2 = nn.LayerNorm(n_embd)\n",
        "\n",
        "    def forward(self, x):\n",
        "        x = x + self.sa(self.ln1(x))\n",
        "        x = x + self.ffwd(self.ln2(x))\n",
        "        return x"
      ],
      "metadata": {
        "id": "SRuBC49YXQrh"
      },
      "execution_count": 18,
      "outputs": []
    },
    {
      "cell_type": "markdown",
      "source": [
        "## 4d) **Transformer Block**\n",
        "\n",
        "1. **Self-Attention + Feed Forward**  \n",
        "   - Each block first does multi-head attention, then a feed forward step.  \n",
        "   - We keep residual connections: `x = x + attention(...)`, then `x = x + feedforward(...)`.\n",
        "\n",
        "2. **LayerNorm**  \n",
        "   - **LayerNorm** helps stabilize training. We apply it before each sub-layer in this “pre-norm” design.\n",
        "\n",
        "3. **n_layer = 6**  \n",
        "   - We stack 6 of these blocks in the main model."
      ],
      "metadata": {
        "id": "o54g3K1SXUcX"
      }
    },
    {
      "cell_type": "markdown",
      "source": [
        "# Part 5 GPT Model"
      ],
      "metadata": {
        "id": "_lVxPo6wXarp"
      }
    },
    {
      "cell_type": "code",
      "source": [
        "class GPTLanguageModel(nn.Module):\n",
        "\n",
        "    def __init__(self):\n",
        "        super().__init__()\n",
        "\n",
        "        # Token and Position embeddings\n",
        "        self.token_embedding_table = nn.Embedding(vocab_size, n_embd)\n",
        "        self.position_embedding_table = nn.Embedding(block_size, n_embd)\n",
        "\n",
        "        # Stacked Transformer blocks\n",
        "        self.blocks = nn.Sequential(*[Block(n_embd, n_head=n_head) for _ in range(n_layer)])\n",
        "        self.ln_f = nn.LayerNorm(n_embd)           # final layer norm\n",
        "        self.lm_head = nn.Linear(n_embd, vocab_size)  # final linear to vocab\n",
        "\n",
        "        # Weight init\n",
        "        self.apply(self._init_weights)\n",
        "\n",
        "    def _init_weights(self, module):\n",
        "        if isinstance(module, nn.Linear):\n",
        "            torch.nn.init.normal_(module.weight, mean=0.0, std=0.02)\n",
        "            if module.bias is not None:\n",
        "                torch.nn.init.zeros_(module.bias)\n",
        "        elif isinstance(module, nn.Embedding):\n",
        "            torch.nn.init.normal_(module.weight, mean=0.0, std=0.02)\n",
        "\n",
        "    def forward(self, idx, targets=None):\n",
        "        \"\"\"\n",
        "        idx: (B, T) integer tensor\n",
        "        targets: (B, T) integer tensor for language modeling\n",
        "        \"\"\"\n",
        "        B, T = idx.shape\n",
        "\n",
        "        # Index into embeddings (token + position)\n",
        "        tok_emb = self.token_embedding_table(idx)                # (B, T, n_embd)\n",
        "        pos_emb = self.position_embedding_table(torch.arange(T, device=device))  # (T, n_embd)\n",
        "        x = tok_emb + pos_emb                                    # (B, T, n_embd)\n",
        "\n",
        "        # Pass through all the Transformer blocks\n",
        "        x = self.blocks(x)  # (B, T, n_embd)\n",
        "        x = self.ln_f(x)    # (B, T, n_embd)\n",
        "\n",
        "        # Final logits\n",
        "        logits = self.lm_head(x)  # (B, T, vocab_size)\n",
        "\n",
        "        loss = None\n",
        "        if targets is not None:\n",
        "            # Flatten the logits and targets to 2D and 1D for cross_entropy\n",
        "            B, T, C = logits.shape\n",
        "            logits = logits.view(B*T, C)\n",
        "            targets = targets.view(B*T)\n",
        "            loss = F.cross_entropy(logits, targets)\n",
        "\n",
        "        return logits, loss\n",
        "\n",
        "    def generate(self, idx, max_new_tokens):\n",
        "        \"\"\"\n",
        "        Takes a context idx of shape (B, T) and generates up to max_new_tokens.\n",
        "        \"\"\"\n",
        "        for _ in range(max_new_tokens):\n",
        "            # Crop the context to the last block_size tokens\n",
        "            idx_cond = idx[:, -block_size:]\n",
        "\n",
        "            # Get the predictions\n",
        "            logits, _ = self(idx_cond)\n",
        "\n",
        "            # Focus only on the last time step\n",
        "            logits = logits[:, -1, :]   # (B, vocab_size)\n",
        "\n",
        "            # Softmax to get probabilities\n",
        "            probs = F.softmax(logits, dim=-1)  # (B, vocab_size)\n",
        "\n",
        "            # Sample from the distribution\n",
        "            idx_next = torch.multinomial(probs, num_samples=1)  # (B, 1)\n",
        "\n",
        "            # Append sampled index to the running sequence\n",
        "            idx = torch.cat((idx, idx_next), dim=1)  # (B, T+1)\n",
        "\n",
        "        return idx\n"
      ],
      "metadata": {
        "id": "ybA9CWAqXix5"
      },
      "execution_count": 19,
      "outputs": []
    },
    {
      "cell_type": "markdown",
      "source": [
        "## **5) GPTLanguageModel**\n",
        "\n",
        "**Key Points**:\n",
        "\n",
        "1. **Token + Position Embeddings**  \n",
        "   - We have an **Embedding** layer for tokens (size **vocab_size x n_embd**).  \n",
        "   - Another **Embedding** for positions (size **block_size x n_embd**). We add these together to give each token a sense of “where” it is in the sequence.\n",
        "\n",
        "2. **Stack of Blocks**  \n",
        "   - We build **n_layer = 6** Transformer blocks in a row. Each block is the “attention + feed-forward + residual” combo.\n",
        "\n",
        "3. **Final Layer Norm & Linear Head**  \n",
        "   - A **LayerNorm** normalizes the final output.  \n",
        "   - The linear “LM head” maps `(B, T, 384)` to `(B, T, vocab_size)` so we have a probability distribution over each possible next character.\n",
        "\n",
        "4. **Loss Computation**  \n",
        "   - If we are given a `targets` tensor of shape `(B, T)`, we flatten both the logits and targets to compare them with `F.cross_entropy`.  \n",
        "   - This is how we train the model to predict the correct next character.\n",
        "\n",
        "5. **generate(...)**  \n",
        "   - A method for text generation: we repeatedly feed the current sequence to the model, pick the next token from the distribution, and append it.  \n",
        "   - We keep going until we’ve generated as many tokens as we want.\n"
      ],
      "metadata": {
        "id": "akOTYm61Xk4u"
      }
    },
    {
      "cell_type": "markdown",
      "source": [
        "# Part 6 Traning Loop\n"
      ],
      "metadata": {
        "id": "blyBpu13Xp1f"
      }
    },
    {
      "cell_type": "code",
      "source": [
        "# Instantiate the model\n",
        "model = GPTLanguageModel()\n",
        "model = model.to(device)\n",
        "print(f\"\\nNumber of parameters: {sum(p.numel() for p in model.parameters())/1e6:.2f}M\")\n",
        "\n",
        "# Create an optimizer\n",
        "optimizer = torch.optim.AdamW(model.parameters(), lr=learning_rate)\n",
        "\n",
        "# ----------------------------\n",
        "# Training loop\n",
        "# ----------------------------\n",
        "for iter in range(max_iters):\n",
        "\n",
        "    # Evaluate the loss on train/val periodically\n",
        "    if iter % eval_interval == 0 or iter == max_iters - 1:\n",
        "        losses = estimate_loss(model)\n",
        "        print(f\"Step {iter}: train loss {losses['train']:.4f}, val loss {losses['val']:.4f}\")\n",
        "\n",
        "    # Get a batch\n",
        "    xb, yb = get_batch('train')\n",
        "\n",
        "    # Forward pass & compute loss\n",
        "    logits, loss = model(xb, yb)\n",
        "\n",
        "    # Backward pass\n",
        "    optimizer.zero_grad(set_to_none=True)\n",
        "    loss.backward()\n",
        "\n",
        "    # Gradient descent step\n",
        "    optimizer.step()\n",
        "\n",
        "print(\"Training complete!\")\n"
      ],
      "metadata": {
        "colab": {
          "base_uri": "https://localhost:8080/"
        },
        "id": "p9pyj0P-XsIk",
        "outputId": "7662b052-fd91-4cfa-ac54-b116a4d6e0cb"
      },
      "execution_count": 20,
      "outputs": [
        {
          "output_type": "stream",
          "name": "stdout",
          "text": [
            "\n",
            "Number of parameters: 10.69M\n",
            "Step 0: train loss 4.1993, val loss 4.1878\n",
            "Step 500: train loss 2.5320, val loss 2.5648\n",
            "Step 1000: train loss 2.4552, val loss 2.4972\n",
            "Step 1500: train loss 2.4580, val loss 2.4544\n",
            "Step 2000: train loss 2.4251, val loss 2.4151\n",
            "Step 2500: train loss 2.4428, val loss 2.4239\n",
            "Step 3000: train loss 2.4038, val loss 2.3765\n",
            "Step 3500: train loss 2.3900, val loss 2.4096\n",
            "Step 4000: train loss 2.3742, val loss 2.3592\n",
            "Step 4500: train loss 2.3469, val loss 2.3518\n",
            "Step 4999: train loss 2.2858, val loss 2.3399\n",
            "Training complete!\n"
          ]
        }
      ]
    },
    {
      "cell_type": "markdown",
      "source": [
        "\n",
        "## **6) Training Loop**\n",
        "\n",
        "**Key Points**:\n",
        "\n",
        "1. **max_iters = 5000**  \n",
        "   - We run 5000 steps of gradient updates.\n",
        "\n",
        "2. **eval_interval = 500**  \n",
        "   - Every 500 steps, we call `estimate_loss(model)` to print out the average training and validation losses. This helps us see progress and check if we’re overfitting.\n",
        "\n",
        "3. **get_batch('train')**  \n",
        "   - We fetch a batch of size **batch_size = 64** and length **block_size = 256** from the training data.\n",
        "\n",
        "4. **Forward & Backward**  \n",
        "   - `model(xb, yb)` returns the loss. We call `loss.backward()` to compute gradients, and `optimizer.step()` to update the weights.\n",
        "\n",
        "5. **AdamW with learning_rate=3e-4**  \n",
        "   - A commonly used optimizer for Transformers, which adjusts learning rate and includes a weight decay term.\n",
        "\n",
        "6. **Loss Logging**  \n",
        "   - We print statements like “Step 0: train loss 2.85, val loss 2.90” so we know how training is going.\n"
      ],
      "metadata": {
        "id": "fE70c0iDXtvI"
      }
    },
    {
      "cell_type": "markdown",
      "source": [
        "# Part 7 Use the model for text generation"
      ],
      "metadata": {
        "id": "VtWt53pWXyp0"
      }
    },
    {
      "cell_type": "code",
      "source": [
        "# Example prompt (feel free to change the text below)\n",
        "prompt = \"Fawwaaz Habbal King of\""
      ],
      "metadata": {
        "id": "ElX3wKDUabxd"
      },
      "execution_count": 21,
      "outputs": []
    },
    {
      "cell_type": "code",
      "source": [
        "\n",
        "\n",
        "# 1) Encode the prompt string into token IDs\n",
        "context_ids = encode(prompt)\n",
        "\n",
        "# 2) Convert to a Torch tensor (and move to GPU if available).\n",
        "# Shape is (1, length_of_prompt) so we have batch_size=1\n",
        "context = torch.tensor(context_ids, dtype=torch.long, device=device).unsqueeze(0)\n",
        "\n",
        "# 3) Generate text from that context\n",
        "generated_ids = model.generate(context, max_new_tokens=200)[0].tolist()\n",
        "\n",
        "# 4) Decode the entire resulting token list back into text\n",
        "generated_text = decode(generated_ids)\n",
        "print(generated_text)"
      ],
      "metadata": {
        "colab": {
          "base_uri": "https://localhost:8080/"
        },
        "id": "_abwEBYvX1xz",
        "outputId": "9cb2c7b9-1e38-4fab-97f4-098e91f55de3"
      },
      "execution_count": 22,
      "outputs": [
        {
          "output_type": "stream",
          "name": "stdout",
          "text": [
            "Fawwaaz Habbal King of, les ith.\n",
            "\n",
            "Whe firen thishes ry cuygo?\n",
            "\n",
            "Mome ashoy boele chay harle tre, thae to usspkesdings:\n",
            "Heow and uti ouns ingoarse moye chan des! is, by\n",
            "At whoue hidey gre;\n",
            "Whis IUKhiss and furfia!\n",
            "Oe cry hal\n"
          ]
        }
      ]
    },
    {
      "cell_type": "markdown",
      "source": [
        "\n",
        "## **7) Text Generation**\n",
        "\n",
        "**Key Points**:\n",
        "\n",
        "1. **Context**  \n",
        "   - We can start with a custom prompt (e.g., `\"Fawwaaz Habbal King of\"`).  \n",
        "   - The model needs an initial sequence to predict from.\n",
        "\n",
        "2. **Repetitive Sampling**  \n",
        "   - Each generation step:  \n",
        "     - We feed in the last **block_size = 256** tokens (or fewer if the sequence is shorter).  \n",
        "     - The model outputs logits for the next token.  \n",
        "     - We use `F.softmax` to convert logits to probabilities, then pick one token using `torch.multinomial`.\n",
        "\n",
        "3. **Sampling vs. Argmax**  \n",
        "   - **Sampling** from probabilities adds creativity. If we always took the largest logit, the text might become repetitive or stuck.\n",
        "\n",
        "4. **decode(...)**  \n",
        "   - Converts a list of generated token IDs back to a string so we can read the generated text.\n",
        "\n",
        "5. **max_new_tokens**  \n",
        "   - We specify how many tokens to generate, e.g., 300 or 500. The model stops once it has produced that many additional tokens.\n"
      ],
      "metadata": {
        "id": "pseWWU7hX2Nl"
      }
    },
    {
      "cell_type": "markdown",
      "source": [
        "#This Notebook draws code snipets from Dr Andrej Karpathy' orignal video and repo:\n",
        " https://www.youtube.com/watch?v=kCc8FmEb1nY&t=1362s,\n",
        " https://github.com/karpathy/ng-video-lecture/blob/master/gpt.py\n",
        "\n",
        "## modified and annotated by Edward Wang for class demo"
      ],
      "metadata": {
        "id": "HjKZhfIoZUHn"
      }
    }
  ]
}